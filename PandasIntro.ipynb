{
  "nbformat": 4,
  "nbformat_minor": 0,
  "metadata": {
    "colab": {
      "provenance": []
    },
    "kernelspec": {
      "name": "python3",
      "display_name": "Python 3"
    },
    "language_info": {
      "name": "python"
    }
  },
  "cells": [
    {
      "cell_type": "code",
      "execution_count": 1,
      "metadata": {
        "id": "jWlO4nDnl8f0"
      },
      "outputs": [],
      "source": [
        "import pandas as pd"
      ]
    },
    {
      "cell_type": "code",
      "source": [
        "dictAQI = {\n",
        "    'color': ['Green', 'Yellow', 'Orange', 'Red', 'Purple', 'Maroon'],\n",
        "    'concern': ['Good', 'Moderate', 'Unhealthy for Sensitive Groups', 'Unhealthy', 'Very Unhealthy', 'Hazardous'],\n",
        "    'low': [0, 51, 101, 151, 201, 301],\n",
        "    'high': [50, 100, 159, 299, 399, 999]\n",
        "}\n",
        "\n",
        "dfAQI = pd.DataFrame(dictAQI)\n",
        "\n",
        "print(dfAQI)"
      ],
      "metadata": {
        "colab": {
          "base_uri": "https://localhost:8080/"
        },
        "id": "b00LMmLwmBWh",
        "outputId": "b601cb3e-805a-4b8f-8a8b-b58a1c486a38"
      },
      "execution_count": 2,
      "outputs": [
        {
          "output_type": "stream",
          "name": "stdout",
          "text": [
            "    color                         concern  low  high\n",
            "0   Green                            Good    0    50\n",
            "1  Yellow                        Moderate   51   100\n",
            "2  Orange  Unhealthy for Sensitive Groups  101   159\n",
            "3     Red                       Unhealthy  151   299\n",
            "4  Purple                  Very Unhealthy  201   399\n",
            "5  Maroon                       Hazardous  301   999\n"
          ]
        }
      ]
    }
  ]
}