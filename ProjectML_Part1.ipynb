{
  "cells": [
    {
      "cell_type": "markdown",
      "metadata": {
        "id": "view-in-github",
        "colab_type": "text"
      },
      "source": [
        "<a href=\"https://colab.research.google.com/github/AndrewPiasecki/PythonCourse/blob/main/ProjectML_Part1.ipynb\" target=\"_parent\"><img src=\"https://colab.research.google.com/assets/colab-badge.svg\" alt=\"Open In Colab\"/></a>"
      ]
    },
    {
      "cell_type": "code",
      "execution_count": 1,
      "metadata": {
        "id": "2hXZ42ko198j"
      },
      "outputs": [],
      "source": [
        "import tensorflow as tf\n",
        "from tensorflow.keras.datasets import cifar10\n",
        "from tensorflow.keras.models import Sequential\n",
        "from tensorflow.keras.layers import Conv2D, MaxPooling2D, Flatten, Dense\n",
        "from tensorflow.keras.callbacks import EarlyStopping\n",
        "from sklearn.ensemble import RandomForestClassifier, GradientBoostingClassifier\n",
        "from sklearn.neighbors import KNeighborsClassifier\n",
        "from sklearn.metrics import accuracy_score, precision_score, recall_score, f1_score, classification_report\n",
        "import matplotlib.pyplot as plt\n",
        "import numpy as np\n",
        "from sklearn.svm import SVC\n",
        "\n",
        "\n"
      ]
    },
    {
      "cell_type": "code",
      "execution_count": 2,
      "metadata": {
        "id": "-Q99iPut2Eam",
        "colab": {
          "base_uri": "https://localhost:8080/"
        },
        "outputId": "1dd152af-b5db-49c9-ff4c-e010516b1364"
      },
      "outputs": [
        {
          "output_type": "stream",
          "name": "stdout",
          "text": [
            "Downloading data from https://www.cs.toronto.edu/~kriz/cifar-10-python.tar.gz\n",
            "170498071/170498071 [==============================] - 3s 0us/step\n"
          ]
        }
      ],
      "source": [
        "# Load CIFAR-10 dataset\n",
        "(x_train, y_train), (x_test, y_test) = cifar10.load_data()\n",
        "\n",
        "# Preprocess data by scaling the datax\n",
        "x_train = x_train.astype('float32') / 255.0\n",
        "x_test = x_test.astype('float32') / 255.0\n",
        "\n",
        "# Reshape data for KNN (flatten the images)\n",
        "x_train_knn = x_train.reshape(-1, 32 * 32 * 3)\n",
        "x_test_knn = x_test.reshape(-1, 32 * 32 * 3)"
      ]
    },
    {
      "cell_type": "code",
      "execution_count": 3,
      "metadata": {
        "id": "wzFbjIjF19-v"
      },
      "outputs": [],
      "source": [
        "# Define Random Forest model (baseline)\n",
        "rf = RandomForestClassifier(n_estimators=100, random_state=42)"
      ]
    },
    {
      "cell_type": "code",
      "execution_count": 4,
      "metadata": {
        "id": "mHJxzzsdBnq0"
      },
      "outputs": [],
      "source": [
        "# Define KNN model\n",
        "knn = KNeighborsClassifier(n_neighbors=5)"
      ]
    },
    {
      "cell_type": "code",
      "execution_count": 5,
      "metadata": {
        "id": "hFSBhpQz1-A8"
      },
      "outputs": [],
      "source": [
        "# Define CNN model (Got help from the presentation)\n",
        "model = Sequential()\n",
        "model.add(Conv2D(32, (3, 3), activation='relu', input_shape=(32, 32, 3)))\n",
        "model.add(MaxPooling2D((2, 2)))\n",
        "model.add(Conv2D(64, (3, 3), activation='relu'))\n",
        "model.add(MaxPooling2D((2, 2)))\n",
        "model.add(Flatten())\n",
        "model.add(Dense(64, activation='relu'))\n",
        "model.add(Dense(10, activation='softmax'))  # 10 output units for 10 classes\n",
        "\n"
      ]
    },
    {
      "cell_type": "code",
      "execution_count": 6,
      "metadata": {
        "id": "h4MYa-mn1-C3"
      },
      "outputs": [],
      "source": [
        "# Compile CNN model\n",
        "model.compile(optimizer='adam', loss='sparse_categorical_crossentropy', metrics=['accuracy'])"
      ]
    },
    {
      "cell_type": "code",
      "execution_count": 7,
      "metadata": {
        "id": "cRlm16er4f7Z"
      },
      "outputs": [],
      "source": [
        "# Early stopping to prevent overfitting\n",
        "early_stopping = EarlyStopping(monitor='val_loss', patience=3)"
      ]
    },
    {
      "cell_type": "code",
      "execution_count": 8,
      "metadata": {
        "colab": {
          "base_uri": "https://localhost:8080/",
          "height": 75
        },
        "id": "ON1MXfmi4f9n",
        "outputId": "61959d36-b688-4fb4-93d2-f7821a04c3d2"
      },
      "outputs": [
        {
          "output_type": "execute_result",
          "data": {
            "text/plain": [
              "RandomForestClassifier(random_state=42)"
            ],
            "text/html": [
              "<style>#sk-container-id-1 {color: black;background-color: white;}#sk-container-id-1 pre{padding: 0;}#sk-container-id-1 div.sk-toggleable {background-color: white;}#sk-container-id-1 label.sk-toggleable__label {cursor: pointer;display: block;width: 100%;margin-bottom: 0;padding: 0.3em;box-sizing: border-box;text-align: center;}#sk-container-id-1 label.sk-toggleable__label-arrow:before {content: \"▸\";float: left;margin-right: 0.25em;color: #696969;}#sk-container-id-1 label.sk-toggleable__label-arrow:hover:before {color: black;}#sk-container-id-1 div.sk-estimator:hover label.sk-toggleable__label-arrow:before {color: black;}#sk-container-id-1 div.sk-toggleable__content {max-height: 0;max-width: 0;overflow: hidden;text-align: left;background-color: #f0f8ff;}#sk-container-id-1 div.sk-toggleable__content pre {margin: 0.2em;color: black;border-radius: 0.25em;background-color: #f0f8ff;}#sk-container-id-1 input.sk-toggleable__control:checked~div.sk-toggleable__content {max-height: 200px;max-width: 100%;overflow: auto;}#sk-container-id-1 input.sk-toggleable__control:checked~label.sk-toggleable__label-arrow:before {content: \"▾\";}#sk-container-id-1 div.sk-estimator input.sk-toggleable__control:checked~label.sk-toggleable__label {background-color: #d4ebff;}#sk-container-id-1 div.sk-label input.sk-toggleable__control:checked~label.sk-toggleable__label {background-color: #d4ebff;}#sk-container-id-1 input.sk-hidden--visually {border: 0;clip: rect(1px 1px 1px 1px);clip: rect(1px, 1px, 1px, 1px);height: 1px;margin: -1px;overflow: hidden;padding: 0;position: absolute;width: 1px;}#sk-container-id-1 div.sk-estimator {font-family: monospace;background-color: #f0f8ff;border: 1px dotted black;border-radius: 0.25em;box-sizing: border-box;margin-bottom: 0.5em;}#sk-container-id-1 div.sk-estimator:hover {background-color: #d4ebff;}#sk-container-id-1 div.sk-parallel-item::after {content: \"\";width: 100%;border-bottom: 1px solid gray;flex-grow: 1;}#sk-container-id-1 div.sk-label:hover label.sk-toggleable__label {background-color: #d4ebff;}#sk-container-id-1 div.sk-serial::before {content: \"\";position: absolute;border-left: 1px solid gray;box-sizing: border-box;top: 0;bottom: 0;left: 50%;z-index: 0;}#sk-container-id-1 div.sk-serial {display: flex;flex-direction: column;align-items: center;background-color: white;padding-right: 0.2em;padding-left: 0.2em;position: relative;}#sk-container-id-1 div.sk-item {position: relative;z-index: 1;}#sk-container-id-1 div.sk-parallel {display: flex;align-items: stretch;justify-content: center;background-color: white;position: relative;}#sk-container-id-1 div.sk-item::before, #sk-container-id-1 div.sk-parallel-item::before {content: \"\";position: absolute;border-left: 1px solid gray;box-sizing: border-box;top: 0;bottom: 0;left: 50%;z-index: -1;}#sk-container-id-1 div.sk-parallel-item {display: flex;flex-direction: column;z-index: 1;position: relative;background-color: white;}#sk-container-id-1 div.sk-parallel-item:first-child::after {align-self: flex-end;width: 50%;}#sk-container-id-1 div.sk-parallel-item:last-child::after {align-self: flex-start;width: 50%;}#sk-container-id-1 div.sk-parallel-item:only-child::after {width: 0;}#sk-container-id-1 div.sk-dashed-wrapped {border: 1px dashed gray;margin: 0 0.4em 0.5em 0.4em;box-sizing: border-box;padding-bottom: 0.4em;background-color: white;}#sk-container-id-1 div.sk-label label {font-family: monospace;font-weight: bold;display: inline-block;line-height: 1.2em;}#sk-container-id-1 div.sk-label-container {text-align: center;}#sk-container-id-1 div.sk-container {/* jupyter's `normalize.less` sets `[hidden] { display: none; }` but bootstrap.min.css set `[hidden] { display: none !important; }` so we also need the `!important` here to be able to override the default hidden behavior on the sphinx rendered scikit-learn.org. See: https://github.com/scikit-learn/scikit-learn/issues/21755 */display: inline-block !important;position: relative;}#sk-container-id-1 div.sk-text-repr-fallback {display: none;}</style><div id=\"sk-container-id-1\" class=\"sk-top-container\"><div class=\"sk-text-repr-fallback\"><pre>RandomForestClassifier(random_state=42)</pre><b>In a Jupyter environment, please rerun this cell to show the HTML representation or trust the notebook. <br />On GitHub, the HTML representation is unable to render, please try loading this page with nbviewer.org.</b></div><div class=\"sk-container\" hidden><div class=\"sk-item\"><div class=\"sk-estimator sk-toggleable\"><input class=\"sk-toggleable__control sk-hidden--visually\" id=\"sk-estimator-id-1\" type=\"checkbox\" checked><label for=\"sk-estimator-id-1\" class=\"sk-toggleable__label sk-toggleable__label-arrow\">RandomForestClassifier</label><div class=\"sk-toggleable__content\"><pre>RandomForestClassifier(random_state=42)</pre></div></div></div></div></div>"
            ]
          },
          "metadata": {},
          "execution_count": 8
        }
      ],
      "source": [
        "# Train Random Forest model\n",
        "rf.fit(x_train.reshape(-1, 32 * 32 * 3), y_train.ravel())"
      ]
    },
    {
      "cell_type": "code",
      "execution_count": 9,
      "metadata": {
        "colab": {
          "base_uri": "https://localhost:8080/",
          "height": 75
        },
        "id": "Sx4B02RhByQe",
        "outputId": "aa8ce8b7-9dbe-49b3-d372-e03c94188d1b"
      },
      "outputs": [
        {
          "output_type": "execute_result",
          "data": {
            "text/plain": [
              "KNeighborsClassifier()"
            ],
            "text/html": [
              "<style>#sk-container-id-2 {color: black;background-color: white;}#sk-container-id-2 pre{padding: 0;}#sk-container-id-2 div.sk-toggleable {background-color: white;}#sk-container-id-2 label.sk-toggleable__label {cursor: pointer;display: block;width: 100%;margin-bottom: 0;padding: 0.3em;box-sizing: border-box;text-align: center;}#sk-container-id-2 label.sk-toggleable__label-arrow:before {content: \"▸\";float: left;margin-right: 0.25em;color: #696969;}#sk-container-id-2 label.sk-toggleable__label-arrow:hover:before {color: black;}#sk-container-id-2 div.sk-estimator:hover label.sk-toggleable__label-arrow:before {color: black;}#sk-container-id-2 div.sk-toggleable__content {max-height: 0;max-width: 0;overflow: hidden;text-align: left;background-color: #f0f8ff;}#sk-container-id-2 div.sk-toggleable__content pre {margin: 0.2em;color: black;border-radius: 0.25em;background-color: #f0f8ff;}#sk-container-id-2 input.sk-toggleable__control:checked~div.sk-toggleable__content {max-height: 200px;max-width: 100%;overflow: auto;}#sk-container-id-2 input.sk-toggleable__control:checked~label.sk-toggleable__label-arrow:before {content: \"▾\";}#sk-container-id-2 div.sk-estimator input.sk-toggleable__control:checked~label.sk-toggleable__label {background-color: #d4ebff;}#sk-container-id-2 div.sk-label input.sk-toggleable__control:checked~label.sk-toggleable__label {background-color: #d4ebff;}#sk-container-id-2 input.sk-hidden--visually {border: 0;clip: rect(1px 1px 1px 1px);clip: rect(1px, 1px, 1px, 1px);height: 1px;margin: -1px;overflow: hidden;padding: 0;position: absolute;width: 1px;}#sk-container-id-2 div.sk-estimator {font-family: monospace;background-color: #f0f8ff;border: 1px dotted black;border-radius: 0.25em;box-sizing: border-box;margin-bottom: 0.5em;}#sk-container-id-2 div.sk-estimator:hover {background-color: #d4ebff;}#sk-container-id-2 div.sk-parallel-item::after {content: \"\";width: 100%;border-bottom: 1px solid gray;flex-grow: 1;}#sk-container-id-2 div.sk-label:hover label.sk-toggleable__label {background-color: #d4ebff;}#sk-container-id-2 div.sk-serial::before {content: \"\";position: absolute;border-left: 1px solid gray;box-sizing: border-box;top: 0;bottom: 0;left: 50%;z-index: 0;}#sk-container-id-2 div.sk-serial {display: flex;flex-direction: column;align-items: center;background-color: white;padding-right: 0.2em;padding-left: 0.2em;position: relative;}#sk-container-id-2 div.sk-item {position: relative;z-index: 1;}#sk-container-id-2 div.sk-parallel {display: flex;align-items: stretch;justify-content: center;background-color: white;position: relative;}#sk-container-id-2 div.sk-item::before, #sk-container-id-2 div.sk-parallel-item::before {content: \"\";position: absolute;border-left: 1px solid gray;box-sizing: border-box;top: 0;bottom: 0;left: 50%;z-index: -1;}#sk-container-id-2 div.sk-parallel-item {display: flex;flex-direction: column;z-index: 1;position: relative;background-color: white;}#sk-container-id-2 div.sk-parallel-item:first-child::after {align-self: flex-end;width: 50%;}#sk-container-id-2 div.sk-parallel-item:last-child::after {align-self: flex-start;width: 50%;}#sk-container-id-2 div.sk-parallel-item:only-child::after {width: 0;}#sk-container-id-2 div.sk-dashed-wrapped {border: 1px dashed gray;margin: 0 0.4em 0.5em 0.4em;box-sizing: border-box;padding-bottom: 0.4em;background-color: white;}#sk-container-id-2 div.sk-label label {font-family: monospace;font-weight: bold;display: inline-block;line-height: 1.2em;}#sk-container-id-2 div.sk-label-container {text-align: center;}#sk-container-id-2 div.sk-container {/* jupyter's `normalize.less` sets `[hidden] { display: none; }` but bootstrap.min.css set `[hidden] { display: none !important; }` so we also need the `!important` here to be able to override the default hidden behavior on the sphinx rendered scikit-learn.org. See: https://github.com/scikit-learn/scikit-learn/issues/21755 */display: inline-block !important;position: relative;}#sk-container-id-2 div.sk-text-repr-fallback {display: none;}</style><div id=\"sk-container-id-2\" class=\"sk-top-container\"><div class=\"sk-text-repr-fallback\"><pre>KNeighborsClassifier()</pre><b>In a Jupyter environment, please rerun this cell to show the HTML representation or trust the notebook. <br />On GitHub, the HTML representation is unable to render, please try loading this page with nbviewer.org.</b></div><div class=\"sk-container\" hidden><div class=\"sk-item\"><div class=\"sk-estimator sk-toggleable\"><input class=\"sk-toggleable__control sk-hidden--visually\" id=\"sk-estimator-id-2\" type=\"checkbox\" checked><label for=\"sk-estimator-id-2\" class=\"sk-toggleable__label sk-toggleable__label-arrow\">KNeighborsClassifier</label><div class=\"sk-toggleable__content\"><pre>KNeighborsClassifier()</pre></div></div></div></div></div>"
            ]
          },
          "metadata": {},
          "execution_count": 9
        }
      ],
      "source": [
        "# Train KNN model\n",
        "knn.fit(x_train_knn, y_train.ravel())"
      ]
    },
    {
      "cell_type": "code",
      "execution_count": 10,
      "metadata": {
        "colab": {
          "base_uri": "https://localhost:8080/"
        },
        "id": "qAicq7wD4f_w",
        "outputId": "2f48b111-1201-4b5d-9bc6-8f8aee68cb0b"
      },
      "outputs": [
        {
          "output_type": "stream",
          "name": "stdout",
          "text": [
            "Epoch 1/50\n",
            "1563/1563 [==============================] - 61s 39ms/step - loss: 1.4829 - accuracy: 0.4712 - val_loss: 1.1912 - val_accuracy: 0.5831\n",
            "Epoch 2/50\n",
            "1563/1563 [==============================] - 58s 37ms/step - loss: 1.1185 - accuracy: 0.6094 - val_loss: 1.0608 - val_accuracy: 0.6314\n",
            "Epoch 3/50\n",
            "1563/1563 [==============================] - 59s 38ms/step - loss: 0.9929 - accuracy: 0.6559 - val_loss: 1.0117 - val_accuracy: 0.6505\n",
            "Epoch 4/50\n",
            "1563/1563 [==============================] - 62s 40ms/step - loss: 0.9077 - accuracy: 0.6839 - val_loss: 0.9454 - val_accuracy: 0.6736\n",
            "Epoch 5/50\n",
            "1563/1563 [==============================] - 60s 38ms/step - loss: 0.8411 - accuracy: 0.7107 - val_loss: 0.9457 - val_accuracy: 0.6737\n",
            "Epoch 6/50\n",
            "1563/1563 [==============================] - 57s 37ms/step - loss: 0.7889 - accuracy: 0.7280 - val_loss: 0.9051 - val_accuracy: 0.6897\n",
            "Epoch 7/50\n",
            "1563/1563 [==============================] - 60s 38ms/step - loss: 0.7397 - accuracy: 0.7438 - val_loss: 0.9054 - val_accuracy: 0.6941\n",
            "Epoch 8/50\n",
            "1563/1563 [==============================] - 68s 44ms/step - loss: 0.6963 - accuracy: 0.7585 - val_loss: 0.9314 - val_accuracy: 0.6899\n",
            "Epoch 9/50\n",
            "1563/1563 [==============================] - 65s 42ms/step - loss: 0.6522 - accuracy: 0.7730 - val_loss: 0.8933 - val_accuracy: 0.7058\n",
            "Epoch 10/50\n",
            "1563/1563 [==============================] - 63s 40ms/step - loss: 0.6159 - accuracy: 0.7869 - val_loss: 0.9234 - val_accuracy: 0.6999\n",
            "Epoch 11/50\n",
            "1563/1563 [==============================] - 61s 39ms/step - loss: 0.5807 - accuracy: 0.7980 - val_loss: 0.9415 - val_accuracy: 0.6920\n",
            "Epoch 12/50\n",
            "1563/1563 [==============================] - 58s 37ms/step - loss: 0.5485 - accuracy: 0.8099 - val_loss: 0.9646 - val_accuracy: 0.7004\n"
          ]
        },
        {
          "output_type": "execute_result",
          "data": {
            "text/plain": [
              "<keras.src.callbacks.History at 0x792bb967b160>"
            ]
          },
          "metadata": {},
          "execution_count": 10
        }
      ],
      "source": [
        "# Train CNN model while utilizing early stopping due to 50 epochs\n",
        "model.fit(x_train, y_train, epochs=50, validation_data=(x_test, y_test), callbacks=[early_stopping])\n"
      ]
    },
    {
      "cell_type": "code",
      "execution_count": 11,
      "metadata": {
        "id": "XzG8fBKEDJ0F"
      },
      "outputs": [],
      "source": [
        "# Evaluate Random Forest model\n",
        "\n",
        "# This is evaluating the Random Forest Model by providing the Prediction, Accuracy, Precision, Recall, and then F1 Score. This is after the training set is run through\n",
        "\n",
        "rf_pred = rf.predict(x_test.reshape(-1, 32 * 32 * 3))\n",
        "rf_accuracy = accuracy_score(y_test, rf_pred)\n",
        "rf_precision = precision_score(y_test, rf_pred, average='macro')\n",
        "rf_recall = recall_score(y_test, rf_pred, average='macro')\n",
        "rf_f1 = f1_score(y_test, rf_pred, average='macro')"
      ]
    },
    {
      "cell_type": "code",
      "execution_count": 12,
      "metadata": {
        "id": "_DZq-9oKDJ4c"
      },
      "outputs": [],
      "source": [
        "# Evaluate KNN model\n",
        "\n",
        "# This is evaluating the KNN Model by providing the Prediction, Accuracy, Precision, Recall, and then F1 Score. This is after the training set is run through\n",
        "knn_pred = knn.predict(x_test_knn)\n",
        "knn_accuracy = accuracy_score(y_test, knn_pred)\n",
        "knn_precision = precision_score(y_test, knn_pred, average='macro')\n",
        "knn_recall = recall_score(y_test, knn_pred, average='macro')\n",
        "knn_f1 = f1_score(y_test, knn_pred, average='macro')"
      ]
    },
    {
      "cell_type": "code",
      "execution_count": 13,
      "metadata": {
        "colab": {
          "base_uri": "https://localhost:8080/"
        },
        "id": "0V4Yd90jDJ7N",
        "outputId": "8d8df280-4eac-4e53-a14d-b72f5b16c381"
      },
      "outputs": [
        {
          "output_type": "stream",
          "name": "stdout",
          "text": [
            "313/313 [==============================] - 4s 14ms/step - loss: 0.9646 - accuracy: 0.7004\n",
            "313/313 [==============================] - 3s 10ms/step\n"
          ]
        }
      ],
      "source": [
        "# Evaluate CNN model\n",
        "\n",
        "# This is evaluating the CNN (Convolutional Neural Network) Model by providing the Prediction, Accuracy, Precision, Recall, and then F1 Score. This is after the training set is run through\n",
        "cnn_loss, cnn_accuracy = model.evaluate(x_test, y_test)\n",
        "cnn_pred = np.argmax(model.predict(x_test), axis=-1)\n",
        "cnn_precision = precision_score(y_test, cnn_pred, average='macro')\n",
        "cnn_recall = recall_score(y_test, cnn_pred, average='macro')\n",
        "cnn_f1 = f1_score(y_test, cnn_pred, average='macro')"
      ]
    },
    {
      "cell_type": "code",
      "execution_count": 17,
      "metadata": {
        "colab": {
          "base_uri": "https://localhost:8080/",
          "height": 1000
        },
        "id": "aQ3_07ecQhoj",
        "outputId": "2c4220ba-1483-48de-fe46-10c10f70d115"
      },
      "outputs": [
        {
          "output_type": "stream",
          "name": "stdout",
          "text": [
            "Random Forest Model:\n",
            "Accuracy: 0.4654\n",
            "Precision (Macro): 0.4610\n",
            "Recall (Macro): 0.4654\n",
            "F1-Score (Macro): 0.4621\n"
          ]
        },
        {
          "output_type": "display_data",
          "data": {
            "text/plain": [
              "<Figure size 480x480 with 1 Axes>"
            ],
            "image/png": "[encoded data removed]"
          },
          "metadata": {}
        },
        {
          "output_type": "stream",
          "name": "stdout",
          "text": [
            "\n",
            "KNN Model:\n",
            "Accuracy: 0.3398\n",
            "Precision (Macro): 0.4304\n",
            "Recall (Macro): 0.3398\n",
            "F1-Score (Macro): 0.3260\n"
          ]
        },
        {
          "output_type": "display_data",
          "data": {
            "text/plain": [
              "<Figure size 480x480 with 1 Axes>"
            ],
            "image/png": "[encoded data removed]"
          },
          "metadata": {}
        },
        {
          "output_type": "stream",
          "name": "stdout",
          "text": [
            "\n",
            "CNN Model:\n",
            "Test Loss: 0.9646\n",
            "Test Accuracy: 0.7004\n",
            "Precision (Macro): 0.7029\n",
            "Recall (Macro): 0.7004\n",
            "F1-Score (Macro): 0.7002\n"
          ]
        },
        {
          "output_type": "display_data",
          "data": {
            "text/plain": [
              "<Figure size 480x480 with 1 Axes>"
            ],
            "image/png": "[encoded data removed]"
          },
          "metadata": {}
        }
      ],
      "source": [
        "def plot_confusion_matrix(y_true, y_pred, model_name):\n",
        "  \"\"\"\n",
        "  Plots the Confusion Matrix for a given model.\n",
        "\n",
        "  Args:\n",
        "      y_true: Ground truth labels (array-like).\n",
        "      y_pred: Predicted labels (array-like).\n",
        "      model_name: Name of the model (string).\n",
        "  \"\"\"\n",
        "  cm = tf.math.confusion_matrix(y_true, y_pred)\n",
        "\n",
        "  plt.matshow(cm)\n",
        "  plt.title(f'Confusion Matrix ({model_name})')\n",
        "  plt.ylabel('True Label')\n",
        "  plt.xlabel('Predicted Label')\n",
        "  plt.show()\n",
        "\n",
        "# Print evaluation results\n",
        "print(\"Random Forest Model:\")\n",
        "print(f\"Accuracy: {rf_accuracy:.4f}\")\n",
        "print(f\"Precision (Macro): {rf_precision:.4f}\")\n",
        "print(f\"Recall (Macro): {rf_recall:.4f}\")\n",
        "print(f\"F1-Score (Macro): {rf_f1:.4f}\")\n",
        "\n",
        "# Visualize Random Forest Confusion Matrix\n",
        "plot_confusion_matrix(y_test, rf_pred, \"Random Forest\")\n",
        "\n",
        "print(\"\\nKNN Model:\")\n",
        "print(f\"Accuracy: {knn_accuracy:.4f}\")\n",
        "print(f\"Precision (Macro): {knn_precision:.4f}\")\n",
        "print(f\"Recall (Macro): {knn_recall:.4f}\")\n",
        "print(f\"F1-Score (Macro): {knn_f1:.4f}\")\n",
        "\n",
        "# Visualize KNN Confusion Matrix\n",
        "plot_confusion_matrix(y_test, knn_pred, \"KNN\")\n",
        "\n",
        "print(\"\\nCNN Model:\")\n",
        "print(f\"Test Loss: {cnn_loss:.4f}\")\n",
        "print(f\"Test Accuracy: {cnn_accuracy:.4f}\")\n",
        "print(f\"Precision (Macro): {cnn_precision:.4f}\")\n",
        "print(f\"Recall (Macro): {cnn_recall:.4f}\")\n",
        "print(f\"F1-Score (Macro): {cnn_f1:.4f}\")\n",
        "\n",
        "# Visualize CNN Confusion Matrix\n",
        "plot_confusion_matrix(y_test, cnn_pred, \"CNN\")\n",
        "\n",
        "\n"
      ]
    },
    {
      "cell_type": "markdown",
      "source": [
        "# **Analysis**\n",
        "\n",
        "* The analysis reveals the CNN model as the champion,  outperforming both Random Forest and KNN models. Let's dissect the details:\n",
        "\n",
        "**Accuracy:**\n",
        "\n",
        "* CNN Shines (70%): The CNN model boasts a test accuracy of 70%. This signifies it's correctly classifying examples 70% of the time on unseen test data, indicating good generalizability.\n",
        "\n",
        "* Random Forest Lags (46%): The Random Forest model's accuracy falls short at 46.54%, suggesting it might not be adept at capturing the underlying data patterns as effectively as the CNN.\n",
        "\n",
        "* KNN Falls Behind (34%): The KNN model trails significantly with an accuracy of 33.98%, implying it struggles with accurate classifications.\n",
        "\n",
        "\n",
        "**Precision vs Recall:**\n",
        "\n",
        "**Precision : Finding True Positives**\n",
        "* The CNN takes the lead with a precision of 70.29%. This means a high proportion of its positive predictions are actually correct, indicating the model isn't making many false positive errors.\n",
        "\n",
        "* KNN (43.04%) has a higher precision than Random Forest (46.10%). While this might suggest KNN is more cautious with positive predictions, it could also come at the cost of missing true positives.\n",
        "\n",
        "**Recall: Capturing All Positives**\n",
        "* All three models have similar Recall values, hovering around 0.7 for CNN and Random Forest, and 0.3 for KNN. This suggests they might have difficulty identifying all true positives within the data. The CNN has a slight edge, indicating it captures a larger portion of true positives compared to the other models.\n",
        "\n",
        "**F1-Score:**\n",
        "\n",
        "* The F1-Score combines precision and recall, providing a balanced view of model performance.\n",
        "\n",
        "* The CNN excels with the highest F1-Score (0.7002), demonstrating a good equilibrium between precision and recall. It's effectively making correct positive predictions while also capturing a substantial portion of true positives.\n",
        "\n",
        "* Both Random Forest (0.4621) and KNN (0.3260) have considerably lower F1-Scores. This suggests they struggle with both aspects of classification - making accurate positive predictions and identifying all true positives.\n",
        "\n",
        "**Additional Considerations:**\n",
        "\n",
        "* Test Loss (CNN only): The CNN's test loss of 0.9646 is relatively high. However, the interpretation of loss depends on the specific loss function used. It's valuable to compare this value to a baseline or other CNN models on the same task for better context.\n",
        "\n",
        "* Task Dependence: Remember, these results are specific to the task and dataset used. Different tasks might favor different model architectures or require adjustments to evaluation metrics."
      ],
      "metadata": {
        "id": "USzIWi982oJ2"
      }
    }
  ],
  "metadata": {
    "colab": {
      "provenance": [],
      "authorship_tag": "ABX9TyOSzX0mEJwIzhkvPf0AbwIx",
      "include_colab_link": true
    },
    "kernelspec": {
      "display_name": "Python 3",
      "name": "python3"
    },
    "language_info": {
      "name": "python"
    }
  },
  "nbformat": 4,
  "nbformat_minor": 0
}