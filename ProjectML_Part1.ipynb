{
  "cells": [
    {
      "cell_type": "markdown",
      "metadata": {
        "id": "view-in-github",
        "colab_type": "text"
      },
      "source": [
        "<a href=\"https://colab.research.google.com/github/AndrewPiasecki/PythonCourse/blob/main/ProjectML_Part1.ipynb\" target=\"_parent\"><img src=\"https://colab.research.google.com/assets/colab-badge.svg\" alt=\"Open In Colab\"/></a>"
      ]
    },
    {
      "cell_type": "code",
      "execution_count": 1,
      "metadata": {
        "id": "2hXZ42ko198j"
      },
      "outputs": [],
      "source": [
        "import tensorflow as tf\n",
        "from tensorflow.keras.datasets import cifar10\n",
        "from tensorflow.keras.models import Sequential\n",
        "from tensorflow.keras.layers import Conv2D, MaxPooling2D, Flatten, Dense\n",
        "from tensorflow.keras.callbacks import EarlyStopping\n",
        "from sklearn.ensemble import RandomForestClassifier, GradientBoostingClassifier\n",
        "from sklearn.neighbors import KNeighborsClassifier\n",
        "from sklearn.metrics import accuracy_score, precision_score, recall_score, f1_score, classification_report\n",
        "import matplotlib.pyplot as plt\n",
        "import numpy as np\n",
        "from sklearn.svm import SVC\n",
        "\n",
        "\n"
      ]
    },
    {
      "cell_type": "code",
      "execution_count": 2,
      "metadata": {
        "id": "-Q99iPut2Eam",
        "colab": {
          "base_uri": "https://localhost:8080/"
        },
        "outputId": "d5224071-8905-4dbf-cf1a-156019ea8d14"
      },
      "outputs": [
        {
          "output_type": "stream",
          "name": "stdout",
          "text": [
            "Downloading data from https://www.cs.toronto.edu/~kriz/cifar-10-python.tar.gz\n",
            "170498071/170498071 [==============================] - 4s 0us/step\n"
          ]
        }
      ],
      "source": [
        "# Load CIFAR-10 dataset\n",
        "(x_train, y_train), (x_test, y_test) = cifar10.load_data()\n",
        "\n",
        "# Preprocess data by scaling the datax\n",
        "x_train = x_train.astype('float32') / 255.0\n",
        "x_test = x_test.astype('float32') / 255.0\n",
        "\n",
        "# Reshape data for KNN (flatten the images)\n",
        "x_train_knn = x_train.reshape(-1, 32 * 32 * 3)\n",
        "x_test_knn = x_test.reshape(-1, 32 * 32 * 3)"
      ]
    },
    {
      "cell_type": "code",
      "execution_count": 3,
      "metadata": {
        "id": "wzFbjIjF19-v"
      },
      "outputs": [],
      "source": [
        "# Define Random Forest model (baseline)\n",
        "rf = RandomForestClassifier(n_estimators=100, random_state=42)"
      ]
    },
    {
      "cell_type": "code",
      "execution_count": 4,
      "metadata": {
        "id": "mHJxzzsdBnq0"
      },
      "outputs": [],
      "source": [
        "# Define KNN model\n",
        "knn = KNeighborsClassifier(n_neighbors=5)"
      ]
    },
    {
      "cell_type": "code",
      "execution_count": 5,
      "metadata": {
        "id": "hFSBhpQz1-A8"
      },
      "outputs": [],
      "source": [
        "# Define CNN model (Got help from the presentation)\n",
        "model = Sequential()\n",
        "model.add(Conv2D(32, (3, 3), activation='relu', input_shape=(32, 32, 3)))\n",
        "model.add(MaxPooling2D((2, 2)))\n",
        "model.add(Conv2D(64, (3, 3), activation='relu'))\n",
        "model.add(MaxPooling2D((2, 2)))\n",
        "model.add(Flatten())\n",
        "model.add(Dense(64, activation='relu'))\n",
        "model.add(Dense(10, activation='softmax'))  # 10 output units for 10 classes\n",
        "\n"
      ]
    },
    {
      "cell_type": "code",
      "execution_count": 6,
      "metadata": {
        "id": "h4MYa-mn1-C3"
      },
      "outputs": [],
      "source": [
        "# Compile CNN model\n",
        "model.compile(optimizer='adam', loss='sparse_categorical_crossentropy', metrics=['accuracy'])"
      ]
    },
    {
      "cell_type": "code",
      "execution_count": 7,
      "metadata": {
        "id": "cRlm16er4f7Z"
      },
      "outputs": [],
      "source": [
        "# Early stopping to prevent overfitting\n",
        "early_stopping = EarlyStopping(monitor='val_loss', patience=3)"
      ]
    },
    {
      "cell_type": "code",
      "execution_count": 8,
      "metadata": {
        "colab": {
          "base_uri": "https://localhost:8080/",
          "height": 75
        },
        "id": "ON1MXfmi4f9n",
        "outputId": "43c7d011-d3b5-4873-b6c2-7e57cfeba46f"
      },
      "outputs": [
        {
          "output_type": "execute_result",
          "data": {
            "text/plain": [
              "RandomForestClassifier(random_state=42)"
            ],
            "text/html": [
              "<style>#sk-container-id-1 {color: black;background-color: white;}#sk-container-id-1 pre{padding: 0;}#sk-container-id-1 div.sk-toggleable {background-color: white;}#sk-container-id-1 label.sk-toggleable__label {cursor: pointer;display: block;width: 100%;margin-bottom: 0;padding: 0.3em;box-sizing: border-box;text-align: center;}#sk-container-id-1 label.sk-toggleable__label-arrow:before {content: \"▸\";float: left;margin-right: 0.25em;color: #696969;}#sk-container-id-1 label.sk-toggleable__label-arrow:hover:before {color: black;}#sk-container-id-1 div.sk-estimator:hover label.sk-toggleable__label-arrow:before {color: black;}#sk-container-id-1 div.sk-toggleable__content {max-height: 0;max-width: 0;overflow: hidden;text-align: left;background-color: #f0f8ff;}#sk-container-id-1 div.sk-toggleable__content pre {margin: 0.2em;color: black;border-radius: 0.25em;background-color: #f0f8ff;}#sk-container-id-1 input.sk-toggleable__control:checked~div.sk-toggleable__content {max-height: 200px;max-width: 100%;overflow: auto;}#sk-container-id-1 input.sk-toggleable__control:checked~label.sk-toggleable__label-arrow:before {content: \"▾\";}#sk-container-id-1 div.sk-estimator input.sk-toggleable__control:checked~label.sk-toggleable__label {background-color: #d4ebff;}#sk-container-id-1 div.sk-label input.sk-toggleable__control:checked~label.sk-toggleable__label {background-color: #d4ebff;}#sk-container-id-1 input.sk-hidden--visually {border: 0;clip: rect(1px 1px 1px 1px);clip: rect(1px, 1px, 1px, 1px);height: 1px;margin: -1px;overflow: hidden;padding: 0;position: absolute;width: 1px;}#sk-container-id-1 div.sk-estimator {font-family: monospace;background-color: #f0f8ff;border: 1px dotted black;border-radius: 0.25em;box-sizing: border-box;margin-bottom: 0.5em;}#sk-container-id-1 div.sk-estimator:hover {background-color: #d4ebff;}#sk-container-id-1 div.sk-parallel-item::after {content: \"\";width: 100%;border-bottom: 1px solid gray;flex-grow: 1;}#sk-container-id-1 div.sk-label:hover label.sk-toggleable__label {background-color: #d4ebff;}#sk-container-id-1 div.sk-serial::before {content: \"\";position: absolute;border-left: 1px solid gray;box-sizing: border-box;top: 0;bottom: 0;left: 50%;z-index: 0;}#sk-container-id-1 div.sk-serial {display: flex;flex-direction: column;align-items: center;background-color: white;padding-right: 0.2em;padding-left: 0.2em;position: relative;}#sk-container-id-1 div.sk-item {position: relative;z-index: 1;}#sk-container-id-1 div.sk-parallel {display: flex;align-items: stretch;justify-content: center;background-color: white;position: relative;}#sk-container-id-1 div.sk-item::before, #sk-container-id-1 div.sk-parallel-item::before {content: \"\";position: absolute;border-left: 1px solid gray;box-sizing: border-box;top: 0;bottom: 0;left: 50%;z-index: -1;}#sk-container-id-1 div.sk-parallel-item {display: flex;flex-direction: column;z-index: 1;position: relative;background-color: white;}#sk-container-id-1 div.sk-parallel-item:first-child::after {align-self: flex-end;width: 50%;}#sk-container-id-1 div.sk-parallel-item:last-child::after {align-self: flex-start;width: 50%;}#sk-container-id-1 div.sk-parallel-item:only-child::after {width: 0;}#sk-container-id-1 div.sk-dashed-wrapped {border: 1px dashed gray;margin: 0 0.4em 0.5em 0.4em;box-sizing: border-box;padding-bottom: 0.4em;background-color: white;}#sk-container-id-1 div.sk-label label {font-family: monospace;font-weight: bold;display: inline-block;line-height: 1.2em;}#sk-container-id-1 div.sk-label-container {text-align: center;}#sk-container-id-1 div.sk-container {/* jupyter's `normalize.less` sets `[hidden] { display: none; }` but bootstrap.min.css set `[hidden] { display: none !important; }` so we also need the `!important` here to be able to override the default hidden behavior on the sphinx rendered scikit-learn.org. See: https://github.com/scikit-learn/scikit-learn/issues/21755 */display: inline-block !important;position: relative;}#sk-container-id-1 div.sk-text-repr-fallback {display: none;}</style><div id=\"sk-container-id-1\" class=\"sk-top-container\"><div class=\"sk-text-repr-fallback\"><pre>RandomForestClassifier(random_state=42)</pre><b>In a Jupyter environment, please rerun this cell to show the HTML representation or trust the notebook. <br />On GitHub, the HTML representation is unable to render, please try loading this page with nbviewer.org.</b></div><div class=\"sk-container\" hidden><div class=\"sk-item\"><div class=\"sk-estimator sk-toggleable\"><input class=\"sk-toggleable__control sk-hidden--visually\" id=\"sk-estimator-id-1\" type=\"checkbox\" checked><label for=\"sk-estimator-id-1\" class=\"sk-toggleable__label sk-toggleable__label-arrow\">RandomForestClassifier</label><div class=\"sk-toggleable__content\"><pre>RandomForestClassifier(random_state=42)</pre></div></div></div></div></div>"
            ]
          },
          "metadata": {},
          "execution_count": 8
        }
      ],
      "source": [
        "# Train Random Forest model\n",
        "rf.fit(x_train.reshape(-1, 32 * 32 * 3), y_train.ravel())"
      ]
    },
    {
      "cell_type": "code",
      "execution_count": 9,
      "metadata": {
        "colab": {
          "base_uri": "https://localhost:8080/",
          "height": 75
        },
        "id": "Sx4B02RhByQe",
        "outputId": "eaa6ec78-a7f0-4e31-edf0-8db5bddc5793"
      },
      "outputs": [
        {
          "output_type": "execute_result",
          "data": {
            "text/plain": [
              "KNeighborsClassifier()"
            ],
            "text/html": [
              "<style>#sk-container-id-2 {color: black;background-color: white;}#sk-container-id-2 pre{padding: 0;}#sk-container-id-2 div.sk-toggleable {background-color: white;}#sk-container-id-2 label.sk-toggleable__label {cursor: pointer;display: block;width: 100%;margin-bottom: 0;padding: 0.3em;box-sizing: border-box;text-align: center;}#sk-container-id-2 label.sk-toggleable__label-arrow:before {content: \"▸\";float: left;margin-right: 0.25em;color: #696969;}#sk-container-id-2 label.sk-toggleable__label-arrow:hover:before {color: black;}#sk-container-id-2 div.sk-estimator:hover label.sk-toggleable__label-arrow:before {color: black;}#sk-container-id-2 div.sk-toggleable__content {max-height: 0;max-width: 0;overflow: hidden;text-align: left;background-color: #f0f8ff;}#sk-container-id-2 div.sk-toggleable__content pre {margin: 0.2em;color: black;border-radius: 0.25em;background-color: #f0f8ff;}#sk-container-id-2 input.sk-toggleable__control:checked~div.sk-toggleable__content {max-height: 200px;max-width: 100%;overflow: auto;}#sk-container-id-2 input.sk-toggleable__control:checked~label.sk-toggleable__label-arrow:before {content: \"▾\";}#sk-container-id-2 div.sk-estimator input.sk-toggleable__control:checked~label.sk-toggleable__label {background-color: #d4ebff;}#sk-container-id-2 div.sk-label input.sk-toggleable__control:checked~label.sk-toggleable__label {background-color: #d4ebff;}#sk-container-id-2 input.sk-hidden--visually {border: 0;clip: rect(1px 1px 1px 1px);clip: rect(1px, 1px, 1px, 1px);height: 1px;margin: -1px;overflow: hidden;padding: 0;position: absolute;width: 1px;}#sk-container-id-2 div.sk-estimator {font-family: monospace;background-color: #f0f8ff;border: 1px dotted black;border-radius: 0.25em;box-sizing: border-box;margin-bottom: 0.5em;}#sk-container-id-2 div.sk-estimator:hover {background-color: #d4ebff;}#sk-container-id-2 div.sk-parallel-item::after {content: \"\";width: 100%;border-bottom: 1px solid gray;flex-grow: 1;}#sk-container-id-2 div.sk-label:hover label.sk-toggleable__label {background-color: #d4ebff;}#sk-container-id-2 div.sk-serial::before {content: \"\";position: absolute;border-left: 1px solid gray;box-sizing: border-box;top: 0;bottom: 0;left: 50%;z-index: 0;}#sk-container-id-2 div.sk-serial {display: flex;flex-direction: column;align-items: center;background-color: white;padding-right: 0.2em;padding-left: 0.2em;position: relative;}#sk-container-id-2 div.sk-item {position: relative;z-index: 1;}#sk-container-id-2 div.sk-parallel {display: flex;align-items: stretch;justify-content: center;background-color: white;position: relative;}#sk-container-id-2 div.sk-item::before, #sk-container-id-2 div.sk-parallel-item::before {content: \"\";position: absolute;border-left: 1px solid gray;box-sizing: border-box;top: 0;bottom: 0;left: 50%;z-index: -1;}#sk-container-id-2 div.sk-parallel-item {display: flex;flex-direction: column;z-index: 1;position: relative;background-color: white;}#sk-container-id-2 div.sk-parallel-item:first-child::after {align-self: flex-end;width: 50%;}#sk-container-id-2 div.sk-parallel-item:last-child::after {align-self: flex-start;width: 50%;}#sk-container-id-2 div.sk-parallel-item:only-child::after {width: 0;}#sk-container-id-2 div.sk-dashed-wrapped {border: 1px dashed gray;margin: 0 0.4em 0.5em 0.4em;box-sizing: border-box;padding-bottom: 0.4em;background-color: white;}#sk-container-id-2 div.sk-label label {font-family: monospace;font-weight: bold;display: inline-block;line-height: 1.2em;}#sk-container-id-2 div.sk-label-container {text-align: center;}#sk-container-id-2 div.sk-container {/* jupyter's `normalize.less` sets `[hidden] { display: none; }` but bootstrap.min.css set `[hidden] { display: none !important; }` so we also need the `!important` here to be able to override the default hidden behavior on the sphinx rendered scikit-learn.org. See: https://github.com/scikit-learn/scikit-learn/issues/21755 */display: inline-block !important;position: relative;}#sk-container-id-2 div.sk-text-repr-fallback {display: none;}</style><div id=\"sk-container-id-2\" class=\"sk-top-container\"><div class=\"sk-text-repr-fallback\"><pre>KNeighborsClassifier()</pre><b>In a Jupyter environment, please rerun this cell to show the HTML representation or trust the notebook. <br />On GitHub, the HTML representation is unable to render, please try loading this page with nbviewer.org.</b></div><div class=\"sk-container\" hidden><div class=\"sk-item\"><div class=\"sk-estimator sk-toggleable\"><input class=\"sk-toggleable__control sk-hidden--visually\" id=\"sk-estimator-id-2\" type=\"checkbox\" checked><label for=\"sk-estimator-id-2\" class=\"sk-toggleable__label sk-toggleable__label-arrow\">KNeighborsClassifier</label><div class=\"sk-toggleable__content\"><pre>KNeighborsClassifier()</pre></div></div></div></div></div>"
            ]
          },
          "metadata": {},
          "execution_count": 9
        }
      ],
      "source": [
        "# Train KNN model\n",
        "knn.fit(x_train_knn, y_train.ravel())"
      ]
    },
    {
      "cell_type": "code",
      "execution_count": 10,
      "metadata": {
        "colab": {
          "base_uri": "https://localhost:8080/"
        },
        "id": "qAicq7wD4f_w",
        "outputId": "bdc779bb-7b0a-4e2b-cd59-70f861a69504"
      },
      "outputs": [
        {
          "output_type": "stream",
          "name": "stdout",
          "text": [
            "Epoch 1/50\n",
            "1563/1563 [==============================] - 62s 39ms/step - loss: 1.4731 - accuracy: 0.4702 - val_loss: 1.2082 - val_accuracy: 0.5688\n",
            "Epoch 2/50\n",
            "1563/1563 [==============================] - 62s 39ms/step - loss: 1.1095 - accuracy: 0.6112 - val_loss: 1.0279 - val_accuracy: 0.6452\n",
            "Epoch 3/50\n",
            "1563/1563 [==============================] - 64s 41ms/step - loss: 0.9738 - accuracy: 0.6606 - val_loss: 0.9996 - val_accuracy: 0.6508\n",
            "Epoch 4/50\n",
            "1563/1563 [==============================] - 66s 42ms/step - loss: 0.8821 - accuracy: 0.6947 - val_loss: 0.8976 - val_accuracy: 0.6867\n",
            "Epoch 5/50\n",
            "1563/1563 [==============================] - 63s 40ms/step - loss: 0.8123 - accuracy: 0.7178 - val_loss: 0.9803 - val_accuracy: 0.6662\n",
            "Epoch 6/50\n",
            "1563/1563 [==============================] - 63s 41ms/step - loss: 0.7572 - accuracy: 0.7371 - val_loss: 0.8870 - val_accuracy: 0.6950\n",
            "Epoch 7/50\n",
            "1563/1563 [==============================] - 65s 42ms/step - loss: 0.7043 - accuracy: 0.7541 - val_loss: 0.9015 - val_accuracy: 0.6961\n",
            "Epoch 8/50\n",
            "1563/1563 [==============================] - 62s 40ms/step - loss: 0.6612 - accuracy: 0.7700 - val_loss: 0.8955 - val_accuracy: 0.7006\n",
            "Epoch 9/50\n",
            "1563/1563 [==============================] - 65s 41ms/step - loss: 0.6211 - accuracy: 0.7842 - val_loss: 0.9023 - val_accuracy: 0.7042\n"
          ]
        },
        {
          "output_type": "execute_result",
          "data": {
            "text/plain": [
              "<keras.src.callbacks.History at 0x7b1e0aa82e00>"
            ]
          },
          "metadata": {},
          "execution_count": 10
        }
      ],
      "source": [
        "# Train CNN model while utilizing early stopping due to 50 epochs\n",
        "model.fit(x_train, y_train, epochs=50, validation_data=(x_test, y_test), callbacks=[early_stopping])\n"
      ]
    },
    {
      "cell_type": "code",
      "execution_count": 11,
      "metadata": {
        "id": "XzG8fBKEDJ0F"
      },
      "outputs": [],
      "source": [
        "# Evaluate Random Forest model\n",
        "\n",
        "# This is evaluating the Random Forest Model by providing the Prediction, Accuracy, Precision, Recall, and then F1 Score. This is after the training set is run through\n",
        "\n",
        "rf_pred = rf.predict(x_test.reshape(-1, 32 * 32 * 3))\n",
        "rf_accuracy = accuracy_score(y_test, rf_pred)\n",
        "rf_precision = precision_score(y_test, rf_pred, average='macro')\n",
        "rf_recall = recall_score(y_test, rf_pred, average='macro')\n",
        "rf_f1 = f1_score(y_test, rf_pred, average='macro')"
      ]
    },
    {
      "cell_type": "code",
      "execution_count": 12,
      "metadata": {
        "id": "_DZq-9oKDJ4c"
      },
      "outputs": [],
      "source": [
        "# Evaluate KNN model\n",
        "\n",
        "# This is evaluating the KNN Model by providing the Prediction, Accuracy, Precision, Recall, and then F1 Score. This is after the training set is run through\n",
        "knn_pred = knn.predict(x_test_knn)\n",
        "knn_accuracy = accuracy_score(y_test, knn_pred)\n",
        "knn_precision = precision_score(y_test, knn_pred, average='macro')\n",
        "knn_recall = recall_score(y_test, knn_pred, average='macro')\n",
        "knn_f1 = f1_score(y_test, knn_pred, average='macro')"
      ]
    },
    {
      "cell_type": "code",
      "execution_count": 13,
      "metadata": {
        "colab": {
          "base_uri": "https://localhost:8080/"
        },
        "id": "0V4Yd90jDJ7N",
        "outputId": "c223a5a5-0bc3-49f6-8971-6180d082d0ed"
      },
      "outputs": [
        {
          "output_type": "stream",
          "name": "stdout",
          "text": [
            "313/313 [==============================] - 4s 11ms/step - loss: 0.9023 - accuracy: 0.7042\n",
            "313/313 [==============================] - 4s 11ms/step\n"
          ]
        }
      ],
      "source": [
        "# Evaluate CNN model\n",
        "\n",
        "# This is evaluating the CNN (Convolutional Neural Network) Model by providing the Prediction, Accuracy, Precision, Recall, and then F1 Score. This is after the training set is run through\n",
        "cnn_loss, cnn_accuracy = model.evaluate(x_test, y_test)\n",
        "cnn_pred = np.argmax(model.predict(x_test), axis=-1)\n",
        "cnn_precision = precision_score(y_test, cnn_pred, average='macro')\n",
        "cnn_recall = recall_score(y_test, cnn_pred, average='macro')\n",
        "cnn_f1 = f1_score(y_test, cnn_pred, average='macro')"
      ]
    },
    {
      "cell_type": "code",
      "execution_count": 15,
      "metadata": {
        "colab": {
          "base_uri": "https://localhost:8080/",
          "height": 1000
        },
        "id": "aQ3_07ecQhoj",
        "outputId": "cc120db6-14d9-4dc9-cd3d-7515f600d770"
      },
      "outputs": [
        {
          "output_type": "stream",
          "name": "stdout",
          "text": [
            "Random Forest Model:\n",
            "Accuracy: 0.4654\n",
            "Precision : 0.4610\n",
            "Recall : 0.4654\n",
            "F1-Score : 0.4621\n"
          ]
        },
        {
          "output_type": "display_data",
          "data": {
            "text/plain": [
              "<Figure size 480x480 with 1 Axes>"
            ],
            "image/png": "[encoded data removed]"
          },
          "metadata": {}
        },
        {
          "output_type": "stream",
          "name": "stdout",
          "text": [
            "\n",
            "KNN Model:\n",
            "Accuracy: 0.3398\n",
            "Precision : 0.4304\n",
            "Recall : 0.3398\n",
            "F1-Score : 0.3260\n"
          ]
        },
        {
          "output_type": "display_data",
          "data": {
            "text/plain": [
              "<Figure size 480x480 with 1 Axes>"
            ],
            "image/png": "[encoded data removed]"
          },
          "metadata": {}
        },
        {
          "output_type": "stream",
          "name": "stdout",
          "text": [
            "\n",
            "CNN Model:\n",
            "Test Loss: 0.9023\n",
            "Test Accuracy: 0.7042\n",
            "Precision : 0.7078\n",
            "Recall : 0.7042\n",
            "F1-Score : 0.7014\n"
          ]
        },
        {
          "output_type": "display_data",
          "data": {
            "text/plain": [
              "<Figure size 480x480 with 1 Axes>"
            ],
            "image/png": "[encoded data removed]"
          },
          "metadata": {}
        }
      ],
      "source": [
        "def plot_confusion_matrix(y_true, y_pred, model_name):\n",
        "  \"\"\"\n",
        "  Plots the Confusion Matrix for a given model.\n",
        "\n",
        "  Args:\n",
        "      y_true: Ground truth labels (array-like).\n",
        "      y_pred: Predicted labels (array-like).\n",
        "      model_name: Name of the model (string).\n",
        "  \"\"\"\n",
        "  cm = tf.math.confusion_matrix(y_true, y_pred)\n",
        "\n",
        "  plt.matshow(cm)\n",
        "  plt.title(f'Confusion Matrix ({model_name})')\n",
        "  plt.ylabel('True Label')\n",
        "  plt.xlabel('Predicted Label')\n",
        "  plt.show()\n",
        "\n",
        "# Print evaluation results\n",
        "print(\"Random Forest Model:\")\n",
        "print(f\"Accuracy: {rf_accuracy:.4f}\")\n",
        "print(f\"Precision : {rf_precision:.4f}\")\n",
        "print(f\"Recall : {rf_recall:.4f}\")\n",
        "print(f\"F1-Score : {rf_f1:.4f}\")\n",
        "\n",
        "# Visualize Random Forest Confusion Matrix\n",
        "plot_confusion_matrix(y_test, rf_pred, \"Random Forest\")\n",
        "\n",
        "print(\"\\nKNN Model:\")\n",
        "print(f\"Accuracy: {knn_accuracy:.4f}\")\n",
        "print(f\"Precision : {knn_precision:.4f}\")\n",
        "print(f\"Recall : {knn_recall:.4f}\")\n",
        "print(f\"F1-Score : {knn_f1:.4f}\")\n",
        "\n",
        "# Visualize KNN Confusion Matrix\n",
        "plot_confusion_matrix(y_test, knn_pred, \"KNN\")\n",
        "\n",
        "print(\"\\nCNN Model:\")\n",
        "print(f\"Test Loss: {cnn_loss:.4f}\")\n",
        "print(f\"Test Accuracy: {cnn_accuracy:.4f}\")\n",
        "print(f\"Precision : {cnn_precision:.4f}\")\n",
        "print(f\"Recall : {cnn_recall:.4f}\")\n",
        "print(f\"F1-Score : {cnn_f1:.4f}\")\n",
        "\n",
        "# Visualize CNN Confusion Matrix\n",
        "plot_confusion_matrix(y_test, cnn_pred, \"CNN\")\n",
        "\n",
        "\n"
      ]
    },
    {
      "cell_type": "markdown",
      "source": [
        "# **Analysis**\n",
        "\n",
        "* The analysis reveals the CNN model as the best performer,  outperforming both Random Forest and KNN models.\n",
        "\n",
        "**Accuracy:**\n",
        "\n",
        "* CNN Shines (70%): The CNN model boasts a test accuracy of 70%. This signifies it's correctly classifying examples 70% of the time on unseen test data, indicating good generalizability.\n",
        "\n",
        "* Random Forest Lags (46%): The Random Forest model's accuracy falls short at 46.54%, suggesting it might not be adept at capturing the underlying data patterns as effectively as the CNN.\n",
        "\n",
        "* KNN Falls Behind (34%): The KNN model trails significantly with an accuracy of 33.98%, implying it struggles with accurate classifications, similar to Random Forest.\n",
        "\n",
        "\n",
        "**Precision vs Recall:**\n",
        "\n",
        "**Precision : Finding True Positives**\n",
        "\n",
        "* The CNN takes the lead with a precision of 70.29%. This means a high proportion of its positive predictions are actually correct, indicating the model isn't making many false positive errors.\n",
        "\n",
        "* KNN (43.04%) has a lower precision than Random Forest (46.10%). While this might suggest KNN is more cautious with positive predictions, it could also come at the cost of missing true positives.\n",
        "\n",
        "**Recall: Capturing All Positives**\n",
        "\n",
        "* Much like before, CNN has the best (0.70) Recall Score. This shows they are much more adept to finding the Recall. That said, being at 70% is not a very reliable score. Random Forest and KNN however, do not have Recal worth uilizing. It does not show a good Recall score.\n",
        "**F1-Score:**\n",
        "\n",
        "* The F1-Score combines precision and recall, providing a balanced view of model performance.\n",
        "\n",
        "* The CNN excels with the highest F1-Score (0.7002), demonstrating a good equilibrium between precision and recall. It's effectively making correct positive predictions while also capturing a substantial portion of true positives.\n",
        "\n",
        "* Both Random Forest (0.4621) and KNN (0.3260) have considerably lower F1-Scores. This suggests they struggle with both aspects of classification - making accurate positive predictions and identifying all true positives.\n",
        "\n",
        "**Additional Considerations:**\n",
        "\n",
        "* Test Loss (CNN only): The CNN's test loss of 0.9646 is relatively high. However, the interpretation of loss depends on the specific loss function used. It's valuable to compare this value to a baseline or other CNN models on the same task for better context.\n",
        "\n"
      ],
      "metadata": {
        "id": "USzIWi982oJ2"
      }
    }
  ],
  "metadata": {
    "colab": {
      "provenance": [],
      "authorship_tag": "ABX9TyNAqdBjgMj8BN3sUT3VcCeK",
      "include_colab_link": true
    },
    "kernelspec": {
      "display_name": "Python 3",
      "name": "python3"
    },
    "language_info": {
      "name": "python"
    }
  },
  "nbformat": 4,
  "nbformat_minor": 0
}