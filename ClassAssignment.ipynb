{
  "nbformat": 4,
  "nbformat_minor": 0,
  "metadata": {
    "colab": {
      "provenance": [],
      "authorship_tag": "ABX9TyPvlRrFakujJgA8gqgejfnl",
      "include_colab_link": true
    },
    "kernelspec": {
      "name": "python3",
      "display_name": "Python 3"
    },
    "language_info": {
      "name": "python"
    }
  },
  "cells": [
    {
      "cell_type": "markdown",
      "metadata": {
        "id": "view-in-github",
        "colab_type": "text"
      },
      "source": [
        "<a href=\"https://colab.research.google.com/github/AndrewPiasecki/PythonCourse/blob/main/ClassAssignment.ipynb\" target=\"_parent\"><img src=\"https://colab.research.google.com/assets/colab-badge.svg\" alt=\"Open In Colab\"/></a>"
      ]
    },
    {
      "cell_type": "code",
      "execution_count": 8,
      "metadata": {
        "id": "TtZynpnl4xHE"
      },
      "outputs": [],
      "source": [
        "import pandas as pd"
      ]
    },
    {
      "cell_type": "code",
      "source": [
        "dataOne = 'https://raw.githubusercontent.com/AndrewPiasecki/PythonCourse/main/constituents.csv'\n",
        "dataTwo = 'https://raw.githubusercontent.com/AndrewPiasecki/PythonCourse/main/aqi.txt'"
      ],
      "metadata": {
        "id": "WbgryfIZWHNj"
      },
      "execution_count": 9,
      "outputs": []
    },
    {
      "cell_type": "code",
      "source": [
        "dfOne = pd.read_csv(dataOne)\n",
        "dfAQI = pd.read_csv(dataTwo)\n",
        "\n",
        "dfOne"
      ],
      "metadata": {
        "id": "jUMqooTkYjbl"
      },
      "execution_count": null,
      "outputs": []
    },
    {
      "cell_type": "code",
      "source": [
        "dfAQI"
      ],
      "metadata": {
        "id": "XikspDgLYyrH"
      },
      "execution_count": null,
      "outputs": []
    },
    {
      "cell_type": "code",
      "source": [
        "f = open('/content/sample_data/aqi.txt', 'r')"
      ],
      "metadata": {
        "id": "BNcI2fH6Olwb"
      },
      "execution_count": 26,
      "outputs": []
    },
    {
      "cell_type": "code",
      "source": [
        "line = f.readline()"
      ],
      "metadata": {
        "id": "ok6qzrjiP1nl"
      },
      "execution_count": 23,
      "outputs": []
    },
    {
      "cell_type": "code",
      "source": [
        "while line != '':\n",
        "  line = line.rstrip('\\n')\n",
        "\n",
        "  print(line)\n",
        "\n",
        "  line = f.readline()\n",
        "\n",
        "f.close()"
      ],
      "metadata": {
        "id": "SIncVRKFP6s3"
      },
      "execution_count": null,
      "outputs": []
    },
    {
      "cell_type": "code",
      "source": [
        "for line in f:\n",
        "  line = line.rstrip('\\n')\n",
        "  print(line)\n",
        "\n",
        "f.close()"
      ],
      "metadata": {
        "id": "r58qdEnDQjrH"
      },
      "execution_count": 28,
      "outputs": []
    },
    {
      "cell_type": "code",
      "source": [
        "name = input(\"What is your name? \")\n",
        "\n",
        "fout = open(\"/content/sample_data/write.txt\", \"w\")\n",
        "\n",
        "print(f\"Hello {name}\", file = fout)\n",
        "\n",
        "fout.close()"
      ],
      "metadata": {
        "colab": {
          "base_uri": "https://localhost:8080/"
        },
        "id": "R-b06e7cR1hJ",
        "outputId": "5ee0fe71-240c-4365-952f-6f9b40d060ce"
      },
      "execution_count": 30,
      "outputs": [
        {
          "name": "stdout",
          "output_type": "stream",
          "text": [
            "What is your name? Andrew Piasecki\n"
          ]
        }
      ]
    },
    {
      "cell_type": "code",
      "source": [
        "entry = input(\"Enter a number: \")\n",
        "\n",
        "try:\n",
        "  value = float(entry)\n",
        "  print(value)\n",
        "\n",
        "except:\n",
        "  print('Error converting')\n",
        "\n",
        "print(\"Program Ends\")\n"
      ],
      "metadata": {
        "colab": {
          "base_uri": "https://localhost:8080/"
        },
        "id": "Wce_2d14Sm_6",
        "outputId": "292052d0-5e22-4110-afcd-9caecd33616c"
      },
      "execution_count": 32,
      "outputs": [
        {
          "output_type": "stream",
          "name": "stdout",
          "text": [
            "Enter a number: hello\n",
            "Error converting\n",
            "Program Ends\n"
          ]
        }
      ]
    }
  ]
}