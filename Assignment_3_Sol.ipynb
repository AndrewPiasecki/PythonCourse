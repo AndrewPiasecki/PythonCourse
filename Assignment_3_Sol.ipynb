{
  "nbformat": 4,
  "nbformat_minor": 0,
  "metadata": {
    "colab": {
      "provenance": []
    },
    "kernelspec": {
      "name": "python3",
      "display_name": "Python 3"
    },
    "language_info": {
      "name": "python"
    }
  },
  "cells": [
    {
      "cell_type": "markdown",
      "source": [
        "## Problem 1) Running Average\n",
        "\n",
        "Before writing the program, create a text file named values.txt and populate it with one numeric value per line. For example, your file might look like this:\n",
        "\n",
        "10.1\n",
        "\n",
        "9.9\n",
        "\n",
        "9.7\n",
        "\n",
        "Your task is to write a Python program that reads this file and processes its contents. For each line in the file, your program should output three pieces of information in a comma-separated format: the line number, the numeric value on that line, and the running average of all values up to and including the current line.\n",
        "\n",
        "Here is what the expected output should look like, based on the sample file contents provided:\n",
        "\n",
        "\n",
        "1,10.1,10.1\n",
        "\n",
        "2,9.9,10.0\n",
        "\n",
        "3,9.7,9.9\n",
        "\n",
        "Ensure your program correctly handles the creation and reading of the file, calculates the running average dynamically as it reads each line, and formats the output as shown above."
      ],
      "metadata": {
        "id": "KhDF2liDW5OH"
      }
    },
    {
      "cell_type": "code",
      "source": [
        "# First, let's write a .txt file with the specified values.\n",
        "file_path = 'sample_values.txt'\n",
        "with open(file_path, 'w') as file:\n",
        "    file.write(\"10.1\\n9.9\\n9.7\")\n",
        "\n",
        "# Now, we'll read the file and run the code to calculate and display the running average.\n",
        "running_total = 0\n",
        "line_number = 0\n",
        "\n",
        "with open(file_path, 'r') as file:\n",
        "    for line in file:\n",
        "        line_number += 1\n",
        "        value = float(line.strip())  # Convert the line to a float and remove newline characters\n",
        "        running_total += value\n",
        "        running_average = running_total / line_number\n",
        "        print(f\"{line_number},{value},{running_average:.1f}\")\n"
      ],
      "metadata": {
        "colab": {
          "base_uri": "https://localhost:8080/"
        },
        "id": "oexMHmWbWKf2",
        "outputId": "46c2a856-df70-4dd6-bd38-aab2fb6af03a"
      },
      "execution_count": 3,
      "outputs": [
        {
          "output_type": "stream",
          "name": "stdout",
          "text": [
            "1,10.1,10.1\n",
            "2,9.9,10.0\n",
            "3,9.7,9.9\n"
          ]
        }
      ]
    },
    {
      "cell_type": "markdown",
      "source": [
        "## **Problem 2) Filter Valid Lines with Numeric Values **\n",
        "\n",
        "Assume an input file has one or more numeric values separated by commas. We would like to create a file that contains those lines that have two numeric values and report to the screen those lines that have other than two values as well as lines with non-numeric values.\n",
        "\n",
        "For example, if the input file has:\n",
        "\n",
        "10.1,10.4\n",
        "\n",
        "9.9,10.0,10.1\n",
        "\n",
        "9.8,9.9x\n",
        "\n",
        "the output file should have:\n",
        "\n",
        "10.1,10.4\n",
        "\n",
        "and the screen should display:\n",
        "\n",
        "Line 2: not 2 values: 9.9,10.0,10.1\n",
        "\n",
        "Line 3: non-numeric value: 9.8,9.9x"
      ],
      "metadata": {
        "id": "MJDrb-QWYNuf"
      }
    },
    {
      "cell_type": "code",
      "source": [
        "# First, let's simulate creating an input file with the specified contents.\n",
        "input_file_path = 'input_values.txt'\n",
        "with open(input_file_path, 'w') as file:\n",
        "    file.write(\"10.1,10.4\\n9.9,10.0,10.1\\n9.8,9.9x\")\n",
        "\n",
        "# Now, let's process this file to filter valid lines and report invalid ones.\n",
        "output_file_path = 'output_values.txt'\n",
        "\n",
        "with open(input_file_path, 'r') as input_file, open(output_file_path, 'w') as output_file:\n",
        "    line_number = 0\n",
        "    for line in input_file:\n",
        "        line_number += 1\n",
        "        values = line.strip().split(',')\n",
        "\n",
        "        # Check if the line has exactly two numeric values.\n",
        "        if len(values) == 2:\n",
        "            try:\n",
        "                # Attempt to convert both values to float to ensure they are numeric.\n",
        "                float_values = [float(v) for v in values]\n",
        "                # If successful, write the line to the output file.\n",
        "                output_file.write(line)\n",
        "            except ValueError:\n",
        "                # If conversion fails, report the line as containing non-numeric values.\n",
        "                print(f\"Line {line_number}: non-numeric value: {line.strip()}\")\n",
        "        else:\n",
        "            # Report lines that do not have exactly two values.\n",
        "            print(f\"Line {line_number}: not 2 values: {line.strip()}\")\n",
        "\n",
        "# Returning the path to the output file for reference.\n",
        "output_file_path\n"
      ],
      "metadata": {
        "colab": {
          "base_uri": "https://localhost:8080/",
          "height": 70
        },
        "id": "d-_OBWLRWWfM",
        "outputId": "35fd8749-f780-439f-f52e-bca898fce4a2"
      },
      "execution_count": 4,
      "outputs": [
        {
          "output_type": "stream",
          "name": "stdout",
          "text": [
            "Line 2: not 2 values: 9.9,10.0,10.1\n",
            "Line 3: non-numeric value: 9.8,9.9x\n"
          ]
        },
        {
          "output_type": "execute_result",
          "data": {
            "text/plain": [
              "'output_values.txt'"
            ],
            "application/vnd.google.colaboratory.intrinsic+json": {
              "type": "string"
            }
          },
          "metadata": {},
          "execution_count": 4
        }
      ]
    },
    {
      "cell_type": "markdown",
      "source": [
        "## **Problem 3) Patient File and BMI**\n",
        "\n",
        "A text file contains patient ID, height (in inches), and weight (in pounds). For example:\n",
        "\n",
        "patient-id,height,weight\n",
        "\n",
        "P0123,66,150\n",
        "\n",
        "P4354,68,164\n",
        "\n",
        "a) Write a program that reads each line of the file, calculates the BMI for each patient, and displays each patient’s ID and their BMI to the screen. The equation for BMI is:\n",
        "\n",
        "BMI = weight / height2 × 703\n",
        "\n",
        "b) Enhance your program so that the patient ID and BMI are saved to a file called bmi.txt.\n",
        "\n",
        "c) Enhance your program so that if the height or weight data in the file are not numeric, the program will display an error message to the screen including the patient’s ID."
      ],
      "metadata": {
        "id": "WT_yBZuvYiY9"
      }
    },
    {
      "cell_type": "code",
      "source": [
        "# First, let's simulate creating a patient file with the specified contents.\n",
        "patient_file_path = 'patient_data.txt'\n",
        "with open(patient_file_path, 'w') as file:\n",
        "    file.write(\"patient-id,height,weight\\nP0123,66,150\\nP4354,68,164\")\n",
        "\n",
        "# Now, let's write the program to read each line, calculate BMI, and handle non-numeric data.\n",
        "\n",
        "# Function to calculate BMI\n",
        "def calculate_bmi(weight, height):\n",
        "    return (weight / (height ** 2)) * 703\n",
        "\n",
        "# Paths for output files\n",
        "bmi_file_path = 'bmi.txt'\n",
        "\n",
        "# Initialize lists to store output and errors\n",
        "output_lines = []\n",
        "error_messages = []\n",
        "\n",
        "with open(patient_file_path, 'r') as patient_file, open(bmi_file_path, 'w') as bmi_file:\n",
        "    # Skip header line\n",
        "    next(patient_file)\n",
        "    for line in patient_file:\n",
        "        patient_id, height, weight = line.strip().split(',')\n",
        "\n",
        "        try:\n",
        "            # Convert height and weight to float\n",
        "            height = float(height)\n",
        "            weight = float(weight)\n",
        "            # Calculate BMI\n",
        "            bmi = calculate_bmi(weight, height)\n",
        "            # Prepare output line\n",
        "            output_line = f\"{patient_id},{bmi:.2f}\"\n",
        "            # Save output line\n",
        "            output_lines.append(output_line)\n",
        "            # Write to BMI file\n",
        "            bmi_file.write(output_line + '\\n')\n",
        "        except ValueError:\n",
        "            # Handle non-numeric data\n",
        "            error_message = f\"Error: Non-numeric data for patient {patient_id}\"\n",
        "            error_messages.append(error_message)\n",
        "\n",
        "# Displaying the output and errors\n",
        "for line in output_lines:\n",
        "    print(line)\n",
        "for message in error_messages:\n",
        "    print(message)\n",
        "\n",
        "# Returning the path to the BMI file for reference\n",
        "bmi_file_path\n"
      ],
      "metadata": {
        "colab": {
          "base_uri": "https://localhost:8080/",
          "height": 70
        },
        "id": "TOoy5_u4YR0n",
        "outputId": "8279cba8-5f7d-4eaf-b7d3-3a7e97c750d6"
      },
      "execution_count": 5,
      "outputs": [
        {
          "output_type": "stream",
          "name": "stdout",
          "text": [
            "P0123,24.21\n",
            "P4354,24.93\n"
          ]
        },
        {
          "output_type": "execute_result",
          "data": {
            "text/plain": [
              "'bmi.txt'"
            ],
            "application/vnd.google.colaboratory.intrinsic+json": {
              "type": "string"
            }
          },
          "metadata": {},
          "execution_count": 5
        }
      ]
    },
    {
      "cell_type": "markdown",
      "source": [
        "## **Problem 4) Integer Check**\n",
        "\n",
        "Write a program that prompts the user to enter an integer and then checks if the entry is an integer. For this problem, do not use try/except; instead, use string methods. As part of your program, define a function isInteger(s) that has a string parameter s and returns True or False. Useful methods to consider are strip() and isdigit().\n",
        "\n",
        "Example run:\n",
        "\n",
        "Please enter an integer: 123x\n",
        "\n",
        "That isn't an integer"
      ],
      "metadata": {
        "id": "bg2Iva2oZbCs"
      }
    },
    {
      "cell_type": "code",
      "source": [
        "def isInteger(s):\n",
        "    \"\"\"Check if the string s represents an integer.\"\"\"\n",
        "    s = s.strip()  # Remove leading and trailing whitespace\n",
        "    # Check if the string is all digits or a negative number\n",
        "    if s.isdigit() or (s.startswith('-') and s[1:].isdigit()):\n",
        "        return True\n",
        "    else:\n",
        "        return False\n",
        "\n",
        "# Simulating user input in this code snippet. Replace 'your_input_here' with actual input for testing.\n",
        "user_input = input(\"Please enter an integer: \")\n",
        "\n",
        "# Check if the input is an integer\n",
        "if isInteger(user_input):\n",
        "    print(\"That's an integer.\")\n",
        "else:\n",
        "    print(\"That isn't an integer.\")\n"
      ],
      "metadata": {
        "colab": {
          "base_uri": "https://localhost:8080/"
        },
        "id": "6pVlhZGtZ8wz",
        "outputId": "dc4116a5-d171-4e69-8573-6b14973bdd6f"
      },
      "execution_count": 8,
      "outputs": [
        {
          "output_type": "stream",
          "name": "stdout",
          "text": [
            "Please enter an integer: -123\n",
            "That's an integer.\n"
          ]
        }
      ]
    },
    {
      "cell_type": "markdown",
      "source": [
        "## **Problem 5) Date Conversion**\n",
        "Write a program that translates a date of form mm/dd/yyyy to the form: Month dd, yyyy. The program should prompt the user for a date formatted as mm/dd/yyyy and create and display the second form. For example, if the user enters 03/22/2018, the program should construct and display the string March 22, 2018.\n",
        "\n",
        "To solve this problem, use two lists to associate the month numbers with month names and maximum number of days of each month. Also as part of your solution, define and use a function, dateToLabel(indate), that takes a string of the form mm/dd/yyyy and returns the form Month dd, yyyy. If the string indate is not of a valid form, your function should detect it and raise an Exception; for example:\n",
        "\n",
        "if len(fields) != 3:\n",
        "  raise Exception('Incorrect format for date')\n",
        "Detect and report certain error conditions:\n",
        "• User input was not formatted as mm/dd/yyyy.\n",
        "• User entered input like mm/dd/yyyy, but mm, dd, and/or yyyy were not numeric.\n",
        "For example, 01/22/2019 is valid, but jan/22/2019 is invalid.\n",
        "• Month (mm) was not a valid month.\n",
        "\n",
        "• Day (dd) was not a valid day (you do not need to distinguish between leap and nonleap years)."
      ],
      "metadata": {
        "id": "sJOKcNINbA6b"
      }
    },
    {
      "cell_type": "code",
      "source": [
        "def dateToLabel(indate):\n",
        "    months = [\"January\", \"February\", \"March\", \"April\", \"May\", \"June\",\n",
        "              \"July\", \"August\", \"September\", \"October\", \"November\", \"December\"]\n",
        "    max_days = [31, 28, 31, 30, 31, 30, 31, 31, 30, 31, 30, 31]\n",
        "\n",
        "    fields = indate.split('/')\n",
        "    if len(fields) != 3:\n",
        "        raise Exception('Incorrect format for date. Please use mm/dd/yyyy format.')\n",
        "\n",
        "    try:\n",
        "        mm = int(fields[0])\n",
        "        dd = int(fields[1])\n",
        "        yyyy = int(fields[2])\n",
        "    except ValueError:\n",
        "        raise ValueError('Month, day, and year must be numeric.')\n",
        "\n",
        "    if mm < 1 or mm > 12:\n",
        "        raise ValueError('Month must be between 01 and 12.')\n",
        "    if dd < 1 or dd > max_days[mm - 1]:\n",
        "        raise ValueError(f'Day must be valid for the given month. Max days for month {mm} is {max_days[mm - 1]}.')\n",
        "\n",
        "    return f\"{months[mm - 1]} {dd}, {yyyy}\"\n",
        "\n",
        "# Prompt the user for a date in mm/dd/yyyy format\n",
        "user_input = input(\"Please enter a date in mm/dd/yyyy format: \")\n",
        "\n",
        "# Translate the date and display it\n",
        "try:\n",
        "    translated_date = dateToLabel(user_input)\n",
        "    print(translated_date)\n",
        "except Exception as e:\n",
        "    print(e)\n"
      ],
      "metadata": {
        "colab": {
          "base_uri": "https://localhost:8080/"
        },
        "id": "qelskjxrbVbM",
        "outputId": "c39284f9-35ab-4f25-ba20-f7b5f7b76a86"
      },
      "execution_count": 14,
      "outputs": [
        {
          "output_type": "stream",
          "name": "stdout",
          "text": [
            "Please enter a date in mm/dd/yyyy format: 03/22/2018\n",
            "March 22, 2018\n"
          ]
        }
      ]
    },
    {
      "cell_type": "markdown",
      "source": [
        "## **Problem 6) Assume a program begins with the statement:**\n",
        "\n",
        "allData = {\n",
        "'US': {'pop':325.7, 'gdp': 19.39, 'ccy': 'USD', 'fx': 1.0},\n",
        "            \n",
        "'CA': {'pop': 36.5, 'gdp': 1.65, 'ccy': 'CAD', 'fx': 1.35},\n",
        "            \n",
        "'MX': {'pop':129.2, 'gdp': 1.15, 'ccy': 'MXN', 'fx': 19.68}\n",
        "            \n",
        "}\n",
        "Write subsequent statements that (in a loop) prompt the user for a country code (US, CA, or MX), then prompt for a measure name (pop, gdp, ccy, or fx), then look up in the above dictionary for the corresponding value, and display that value. Example run:\n",
        "\n",
        "Please enter a country code: CA\n",
        "\n",
        "Please enter a statistic: pop\n",
        "\n",
        "CA pop = 36.5\n",
        "\n",
        "Your program should handle the cases where a user-entered country code or measure name is not found."
      ],
      "metadata": {
        "id": "ixoDh1hCfBTC"
      }
    },
    {
      "cell_type": "code",
      "source": [
        "allData = {\n",
        "    'US': {'pop': 325.7, 'gdp': 19.39, 'ccy': 'USD', 'fx': 1.0},\n",
        "    'CA': {'pop': 36.5, 'gdp': 1.65, 'ccy': 'CAD', 'fx': 1.35},\n",
        "    'MX': {'pop': 129.2, 'gdp': 1.15, 'ccy': 'MXN', 'fx': 19.68}\n",
        "}\n",
        "\n",
        "def get_statistic(country_code, measure_name):\n",
        "    country_data = allData.get(country_code.upper())\n",
        "    if country_data:\n",
        "        statistic = country_data.get(measure_name.lower())\n",
        "        if statistic is not None:\n",
        "            return f\"{country_code.upper()} {measure_name} = {statistic}\"\n",
        "        else:\n",
        "            return f\"Measure '{measure_name}' not found for country code '{country_code.upper()}'.\"\n",
        "    else:\n",
        "        return f\"Country code '{country_code.upper()}' not found.\"\n",
        "\n",
        "# Prompt the user for a country code\n",
        "country_code = input(\"Please enter a country code (US, CA, or MX): \")\n",
        "\n",
        "# Prompt the user for a statistic name\n",
        "measure_name = input(\"Please enter a statistic name (pop, gdp, ccy, or fx): \")\n",
        "\n",
        "# Display the result of the statistic lookup\n",
        "print(get_statistic(country_code, measure_name))\n"
      ],
      "metadata": {
        "colab": {
          "base_uri": "https://localhost:8080/"
        },
        "id": "O8z9b1GYe2Rt",
        "outputId": "bdaff34f-b9d4-4d41-d2b9-4534dc102b7a"
      },
      "execution_count": 22,
      "outputs": [
        {
          "output_type": "stream",
          "name": "stdout",
          "text": [
            "Please enter a country code (US, CA, or MX): US\n",
            "Please enter a statistic name (pop, gdp, ccy, or fx): pop\n",
            "US pop = 325.7\n"
          ]
        }
      ]
    },
    {
      "cell_type": "markdown",
      "source": [
        "## **Problem 7) Mode of a List**\n",
        "\n",
        "Write a program that prompts the user for a list of numbers and determines the mode of the list. The mode is the value (or values) that occur the most often. For example, the mode of [1, 2, 3, 2] is 2. The mode of [1, 2, 3, 2, 3] is [2, 3]. To solve this problem, use lists and a dictionary.\n",
        "\n",
        "Here are some suggested functions you could define as part of the solution to this problem:\n",
        "\n",
        "#build a dictionary of values and their counts\n",
        "def findCounts(alist)\n",
        "#find the largest value of key/value pairs in a dictionary\n",
        "def findMaxCount(adict)\n",
        "#find the keys having a given value\n",
        "def findValuesWithCount(adict, count)"
      ],
      "metadata": {
        "id": "xj1RrMVYfQNY"
      }
    },
    {
      "cell_type": "code",
      "source": [
        "def findCounts(alist):\n",
        "    counts = {}\n",
        "    for num in alist:\n",
        "        counts[num] = counts.get(num, 0) + 1\n",
        "    return counts\n",
        "\n",
        "def findMaxCount(adict):\n",
        "    max_count = max(adict.values())\n",
        "    return max_count\n",
        "\n",
        "def findValuesWithCount(adict, count):\n",
        "    values = [key for key, value in adict.items() if value == count]\n",
        "    return values\n",
        "\n",
        "# Prompt the user for a list of numbers\n",
        "numbers = input(\"Please enter a list of numbers separated by spaces: \").split()\n",
        "\n",
        "# Convert the input numbers to integers\n",
        "numbers = [int(num) for num in numbers]\n",
        "\n",
        "# Find the counts of each number\n",
        "counts = findCounts(numbers)\n",
        "\n",
        "# Find the maximum count\n",
        "max_count = findMaxCount(counts)\n",
        "\n",
        "# Find the values with the maximum count (mode)\n",
        "mode_values = findValuesWithCount(counts, max_count)\n",
        "\n",
        "# Display the mode(s) of the list\n",
        "if len(mode_values) == 1:\n",
        "    print(\"The mode of the list is:\", mode_values[0])\n",
        "else:\n",
        "    print(\"The mode(s) of the list are:\", mode_values)\n"
      ],
      "metadata": {
        "colab": {
          "base_uri": "https://localhost:8080/"
        },
        "id": "Z2fIFNcSfQX0",
        "outputId": "3fa45cd6-98bb-4f19-ed13-48884e96a9f5"
      },
      "execution_count": 24,
      "outputs": [
        {
          "output_type": "stream",
          "name": "stdout",
          "text": [
            "Please enter a list of numbers separated by spaces: 1 2 3 2 3\n",
            "The mode(s) of the list are: [2, 3]\n"
          ]
        }
      ]
    }
  ]
}